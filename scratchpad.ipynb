{
 "metadata": {
  "language_info": {
   "codemirror_mode": {
    "name": "ipython",
    "version": 3
   },
   "file_extension": ".py",
   "mimetype": "text/x-python",
   "name": "python",
   "nbconvert_exporter": "python",
   "pygments_lexer": "ipython3",
   "version": "3.8.3-final"
  },
  "orig_nbformat": 2,
  "kernelspec": {
   "name": "python3",
   "display_name": "Python 3"
  }
 },
 "nbformat": 4,
 "nbformat_minor": 2,
 "cells": [
  {
   "cell_type": "code",
   "execution_count": 83,
   "metadata": {},
   "outputs": [],
   "source": [
    "import subprocess\n",
    "import requests\n",
    "import json\n",
    "import time\n",
    "\n",
    "STELLARIUM_EXE = \"C:\\Program Files\\Stellarium\\stellarium.exe\"\n",
    "\n",
    "#C:\\Users\\mered\\AppData\\Roaming\\Stellarium\n",
    "\n",
    "# https://stellarium.org/doc/0.18/\n",
    "# http://stellarium.sourceforge.net/wiki/index.php/Advanced_Use#Command_Line_Options\n",
    "# https://astronomy.stackexchange.com/questions/35508/convert-stellarium-video-capture-to-360-for-youtube\n"
   ]
  },
  {
   "cell_type": "code",
   "execution_count": 98,
   "metadata": {
    "tags": []
   },
   "outputs": [],
   "source": [
    "from pathlib import Path\n",
    "\n",
    "#config_path = Path(\"./stars.ini\")\n",
    "\n",
    "p = subprocess.Popen([STELLARIUM_EXE, \n",
    "    \"-c\", \"./stars.ini\",\n",
    "    \"--spout\",\n",
    "    \"--spout-name\", \"stellarium\"\n",
    "])\n",
    "\n",
    "\n",
    "# p = subprocess.Popen([STELLARIUM_EXE, \n",
    "#     \"-c\", \"./default.ini\",\n",
    "#     \"--spout\",\n",
    "#     \"--spout-name\", \"stellarium\"\n",
    "# ])\n",
    "\n",
    "\n"
   ]
  },
  {
   "cell_type": "code",
   "execution_count": 101,
   "metadata": {
    "tags": []
   },
   "outputs": [
    {
     "output_type": "stream",
     "name": "stdout",
     "text": [
      "Connecting...\nGetting status\nConnected!\nHide UI\nSetting time\n{'time': 2459178.2708333335, 'timerate': 0.00011574074074074075}\n"
     ]
    },
    {
     "output_type": "execute_result",
     "data": {
      "text/plain": [
       "<Response [200]>"
      ]
     },
     "metadata": {},
     "execution_count": 101
    }
   ],
   "source": [
    "\n",
    "from datetime import datetime\n",
    "import time\n",
    "import julian\n",
    "from math import pow\n",
    "\n",
    "# screen_h                               = 1440\n",
    "# screen_number                          = 1\n",
    "# screen_w                               = 2560\n",
    "\n",
    "\n",
    "def lmap( value, start1, stop1, start2, stop2):\n",
    "    return start2 + (stop2 - start2) * ((value - start1) / (stop1 - start1))\n",
    "\n",
    "def print_json(data):\n",
    "    print(json.dumps(data, indent=4, sort_keys=True))\n",
    "\n",
    "def rate_to_JDay_per_sec(rate):\n",
    "    return rate / 8640\n",
    "\n",
    "def check_ret(ret):\n",
    "    if ret.status_code == requests.codes.ok:\n",
    "        return ret\n",
    "    else:\n",
    "        print(f\"Request returned {ret.status_code}\")\n",
    "        return None\n",
    "\n",
    "def hide_ui():\n",
    "    print(\"Hide UI\")\n",
    "    return ( check_ret( requests.post(\"http://localhost:8090/api/stelaction/do\", {\"id\" : \"actionToggle_GuiHidden_Global\" })),\n",
    "            check_ret( requests.post(\"http://localhost:8090/api/stelaction/do\", {\"id\" : \"actionShow_Planets_Labels\" })) )\n",
    "\n",
    "def set_time_jd( jdtime, timerate):\n",
    "    data = {\n",
    "        \"time\" : jdtime,\n",
    "        \"timerate\" : rate_to_JDay_per_sec( timerate )\n",
    "    }\n",
    "    print(f\"Setting time\\n{data}\")\n",
    "    return check_ret( requests.post(\"http://localhost:8090/api/main/time\", data, timeout=0.1) )\n",
    "\n",
    "def set_time( time, timerate):\n",
    "    data = {\n",
    "        \"time\" : julian.to_jd( datetime.strptime(time, '%b %d %Y %I:%M%p') ) ,\n",
    "        \"timerate\" : rate_to_JDay_per_sec( timerate )\n",
    "    }\n",
    "    print(f\"Setting time\\n{data}\")\n",
    "    return check_ret( requests.post(\"http://localhost:8090/api/main/time\", data, timeout=0.1) )\n",
    "\n",
    "def get_status():\n",
    "    print(f\"Getting status\")\n",
    "    ret = check_ret( requests.get('http://localhost:8090/api/main/status', timeout=0.1) )\n",
    "    if( ret ):\n",
    "        return ret.json()\n",
    "    return None\n",
    "\n",
    "def connect():\n",
    "    connecting = True\n",
    "    print(\"Connecting...\")\n",
    "    while connecting:\n",
    "        try:\n",
    "            status = get_status()\n",
    "            if status:\n",
    "                print(\"Connected!\")\n",
    "                hide_ui()\n",
    "                connecting = False\n",
    "            else:\n",
    "                r.raise_for_status()\n",
    "        except requests.exceptions.Timeout as e:\n",
    "            time.sleep(0.5)\n",
    "\n",
    "# r = requests.get(\"http://localhost:8090/api/stelproperty/list\", timeout=0.1)\n",
    "# print(json.dumps(r.json(), indent=4, sort_keys=True))\n",
    "\n",
    "# r = requests.get(\"http://localhost:8090/api/stelaction/list\", timeout=0.1)\n",
    "# print(json.dumps(r.json(), indent=4, sort_keys=True))\n",
    "\n",
    "connect()\n",
    "\n",
    "#-----------------\n",
    "\n"
   ]
  },
  {
   "cell_type": "code",
   "execution_count": null,
   "metadata": {
    "tags": []
   },
   "outputs": [],
   "source": [
    "set_time('Nov 24 2020  6:30PM', 1.0)\n",
    "time.sleep(60)\n",
    "\n",
    "T  = 60\n",
    "dt = 1.5\n",
    "t = 0.0\n",
    "while( t <= T):\n",
    "    status = get_status()\n",
    "    #print_json(status)\n",
    "    jdtime = status[\"time\"][\"jday\"]\n",
    "\n",
    "    f = t / T\n",
    "    rate = lmap(pow(f, 10.0), 0.0, 1.0, 1.0, 6000)\n",
    "\n",
    "    print(f\"t: {t:0.4f} rate: {rate:0.4f}\" )\n",
    "    set_time_jd(jdtime, rate)\n",
    "\n",
    "    time.sleep(dt)\n",
    "    t += dt\n"
   ]
  },
  {
   "cell_type": "code",
   "execution_count": 91,
   "metadata": {},
   "outputs": [],
   "source": [
    "# p.terminate()\n",
    "# returncode = p.wait()"
   ]
  },
  {
   "cell_type": "code",
   "execution_count": null,
   "metadata": {},
   "outputs": [],
   "source": []
  }
 ]
}